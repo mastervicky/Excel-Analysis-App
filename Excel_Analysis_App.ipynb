{
 "cells": [
  {
   "cell_type": "markdown",
   "id": "0d489be3",
   "metadata": {
    "notebookRunGroups": {
     "groupValue": "1"
    }
   },
   "source": [
    "# EXCEL ANALYSIS APP"
   ]
  },
  {
   "cell_type": "code",
   "execution_count": null,
   "id": "ebf41606",
   "metadata": {},
   "outputs": [],
   "source": [
    "import streamlit as st\n",
    "import pandas as pd\n",
    "import matplotlib.pyplot as plt\n",
    "from io import BytesIO\n",
    "from pptx import Presentation\n",
    "from pptx.util import Inches, Pt\n",
    "from pptx.enum.shapes import MSO_SHAPE\n",
    "from PIL import Image\n",
    "import smtplib\n",
    "from email.message import EmailMessage\n",
    "\n",
    "st.set_page_config(page_title=\"Excel to PowerPoint Analyzer\", layout=\"wide\")\n",
    "\n",
    "st.title(\"Excel Data to Editable PowerPoint App\")"
   ]
  },
  {
   "cell_type": "markdown",
   "id": "10398c31",
   "metadata": {},
   "source": [
    "=== App Configuration ==="
   ]
  },
  {
   "cell_type": "code",
   "execution_count": null,
   "id": "c877e396",
   "metadata": {},
   "outputs": [],
   "source": [
    "# === Upload Branding Logo ===\n",
    "logo = st.file_uploader(\"Upload Company Logo (Optional)\", type=[\"png\", \"jpg\"])\n",
    "\n",
    "# === Upload Excel File ===\n",
    "uploaded_file = st.file_uploader(\"Upload Excel file\", type=['xlsx'])\n",
    "\n",
    "if uploaded_file:\n",
    "    sheet_names = pd.ExcelFile(uploaded_file).sheet_names\n",
    "    sheet = st.selectbox(\"Select Sheet\", options=sheet_names)\n",
    "    df = pd.read_excel(uploaded_file, sheet_name=sheet)\n",
    "\n",
    "    st.success(f\"Loaded `{sheet}` sheet from Excel.\")"
   ]
  },
  {
   "cell_type": "markdown",
   "id": "fee33668",
   "metadata": {},
   "source": [
    "=== Data Cleaning ==="
   ]
  },
  {
   "cell_type": "code",
   "execution_count": null,
   "id": "512e865b",
   "metadata": {},
   "outputs": [],
   "source": [
    "# === Data Cleaning ===\n",
    "df.dropna(how='all', inplace=True)\n",
    "df.fillna(0, inplace=True)\n",
    "\n",
    "st.subheader(\"Cleaned Data Preview\")\n",
    "st.dataframe(df.head())\n",
    "\n",
    "    # === Chart Options ===\n",
    "st.subheader(\"Select Visualization Options\")\n",
    "\n",
    "chart_type = st.selectbox(\"Chart Type\", [\"Bar\", \"Line\", \"Pie\"])\n",
    "x_axis = st.selectbox(\"X-axis\", options=df.columns)\n",
    "y_axis = st.multiselect(\"Y-axis\", options=df.select_dtypes('number').columns)\n",
    "\n",
    "chart_title = st.text_input(\"Chart Title\", value=\"Data Visualization\")\n",
    "chart_note = st.text_area(\"Chart Notes (will appear below chart slide)\", value=\"\")\n",
    "\n",
    "generate = st.button(\"Generate & Export to PowerPoint\")\n",
    "\n",
    "if generate and y_axis:\n",
    "        fig, ax = plt.subplots()\n",
    "\n",
    "        if chart_type == \"Bar\":\n",
    "            df.plot(x=x_axis, y=y_axis, kind='bar', ax=ax)\n",
    "        elif chart_type == \"Line\":\n",
    "            df.plot(x=x_axis, y=y_axis, kind='line', ax=ax)\n",
    "        elif chart_type == \"Pie\" and len(y_axis) == 1:\n",
    "            df[y_axis[0]].value_counts().plot.pie(autopct='%1.1f%%', ax=ax)\n",
    "        else:\n",
    "            st.warning(\"Pie charts support only one y-axis column.\")\n",
    "            st.stop()\n",
    "\n",
    "        st.pyplot(fig)"
   ]
  },
  {
   "cell_type": "markdown",
   "id": "ee415372",
   "metadata": {},
   "source": [
    "=== PowerPoint Creation ==="
   ]
  },
  {
   "cell_type": "code",
   "execution_count": null,
   "id": "a6d55251",
   "metadata": {},
   "outputs": [],
   "source": [
    "# === Data Cleaning ===\n",
    "df.dropna(how='all', inplace=True)\n",
    "df.fillna(0, inplace=True)\n",
    "\n",
    "st.subheader(\"Cleaned Data Preview\")\n",
    "st.dataframe(df.head())\n",
    "\n",
    "    # === Chart Options ===\n",
    "st.subheader(\"Select Visualization Options\")\n",
    "\n",
    "chart_type = st.selectbox(\"Chart Type\", [\"Bar\", \"Line\", \"Pie\"])\n",
    "x_axis = st.selectbox(\"X-axis\", options=df.columns)\n",
    "y_axis = st.multiselect(\"Y-axis\", options=df.select_dtypes('number').columns)\n",
    "\n",
    "chart_title = st.text_input(\"Chart Title\", value=\"Data Visualization\")\n",
    "chart_note = st.text_area(\"Chart Notes (will appear below chart slide)\", value=\"\")\n",
    "\n",
    "generate = st.button(\"Generate & Export to PowerPoint\")\n",
    "\n",
    "if generate and y_axis:\n",
    "        fig, ax = plt.subplots()\n",
    "\n",
    "        if chart_type == \"Bar\":\n",
    "            df.plot(x=x_axis, y=y_axis, kind='bar', ax=ax)\n",
    "        elif chart_type == \"Line\":\n",
    "            df.plot(x=x_axis, y=y_axis, kind='line', ax=ax)\n",
    "        elif chart_type == \"Pie\" and len(y_axis) == 1:\n",
    "            df[y_axis[0]].value_counts().plot.pie(autopct='%1.1f%%', ax=ax)\n",
    "        else:\n",
    "            st.warning(\"Pie charts support only one y-axis column.\")\n",
    "            st.stop()\n",
    "\n",
    "        st.pyplot(fig)"
   ]
  },
  {
   "cell_type": "markdown",
   "id": "5ae1ca3b",
   "metadata": {},
   "source": [
    "=== Export Powerpoint ==="
   ]
  },
  {
   "cell_type": "code",
   "execution_count": null,
   "id": "8538f34e",
   "metadata": {},
   "outputs": [],
   "source": [
    "# === Export PowerPoint ===\n",
    "ppt_io = BytesIO()\n",
    "prs.save(ppt_io)\n",
    "ppt_io.seek(0)\n",
    "\n",
    "st.success(\"PowerPoint ready for download!\")\n",
    "\n",
    "st.download_button(\n",
    "            label=\"Download Editable PowerPoint\",\n",
    "            data=ppt_io,\n",
    "            file_name=\"Data_Visualization_Report.pptx\",\n",
    "            mime=\"application/vnd.openxmlformats-officedocument.presentationml.presentation\"\n",
    "        )\n",
    "\n",
    "        # === Email Option ===\n",
    "st.subheader(\"Email the Presentation (Optional)\")\n",
    "receiver_email = st.text_input(\"Recipient Email\")\n",
    "send_email = st.button(\"Send Email\")\n",
    "\n",
    "if send_email and receiver_email:\n",
    "            try:\n",
    "                email = EmailMessage()\n",
    "                email[\"Subject\"] = \"Data Visualization Report\"\n",
    "                email[\"From\"] = \"your-email@example.com\"  # Replace with your email\n",
    "                email[\"To\"] = receiver_email\n",
    "                email.set_content(\"Find attached the PowerPoint report you requested.\")\n",
    "                email.add_attachment(ppt_io.read(), maintype='application', subtype='vnd.openxmlformats-officedocument.presentationml.presentation', filename=\"Report.pptx\")\n",
    "\n",
    "                with smtplib.SMTP(\"smtp.example.com\", 587) as smtp:  # Replace with actual SMTP\n",
    "                    smtp.starttls()\n",
    "                    smtp.login(\"your-email@example.com\", \"your-password\")\n",
    "                    smtp.send_message(email)\n",
    "\n",
    "                st.success(f\"Email sent to {receiver_email}\")\n",
    "            except Exception as e:\n",
    "                st.error(f\"Failed to send email: {e}\")\n",
    "elif generate and not y_axis:\n",
    "        st.warning(\"Please select at least one Y-axis column.\")\n"
   ]
  }
 ],
 "metadata": {
  "kernelspec": {
   "display_name": ".venv",
   "language": "python",
   "name": "python3"
  },
  "language_info": {
   "name": "python",
   "version": "3.13.5"
  }
 },
 "nbformat": 4,
 "nbformat_minor": 5
}
